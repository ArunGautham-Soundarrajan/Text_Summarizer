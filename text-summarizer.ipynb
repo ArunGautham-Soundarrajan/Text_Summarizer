{
 "cells": [
  {
   "cell_type": "code",
   "execution_count": 1,
   "id": "15652ed2",
   "metadata": {
    "_cell_guid": "b1076dfc-b9ad-4769-8c92-a6c4dae69d19",
    "_uuid": "8f2839f25d086af736a60e9eeb907d3b93b6e0e5",
    "execution": {
     "iopub.execute_input": "2021-07-27T22:32:22.626524Z",
     "iopub.status.busy": "2021-07-27T22:32:22.624922Z",
     "iopub.status.idle": "2021-07-27T22:32:28.527998Z",
     "shell.execute_reply": "2021-07-27T22:32:28.527016Z",
     "shell.execute_reply.started": "2021-07-27T20:33:54.357724Z"
    },
    "papermill": {
     "duration": 5.928353,
     "end_time": "2021-07-27T22:32:28.528215",
     "exception": false,
     "start_time": "2021-07-27T22:32:22.599862",
     "status": "completed"
    },
    "tags": []
   },
   "outputs": [],
   "source": [
    "import numpy as np\n",
    "import pandas as pd\n",
    "import matplotlib.pyplot as plt\n",
    "import seaborn as sns\n",
    "\n",
    "from bs4 import BeautifulSoup \n",
    "\n",
    "import re\n",
    "from nltk.corpus import stopwords \n",
    "\n",
    "import tensorflow as tf\n",
    "import tensorflow_datasets as tfds\n",
    "from tensorflow.keras.preprocessing.text import Tokenizer\n",
    "from tensorflow.keras.preprocessing.sequence import pad_sequences\n",
    "from tensorflow.keras.layers import Input, LSTM, Embedding, Dense, Concatenate, TimeDistributed, Bidirectional\n",
    "from tensorflow.keras.models import Model\n",
    "from tensorflow.keras.callbacks import EarlyStopping"
   ]
  },
  {
   "cell_type": "markdown",
   "id": "8b672e64",
   "metadata": {
    "papermill": {
     "duration": 0.019176,
     "end_time": "2021-07-27T22:32:28.567169",
     "exception": false,
     "start_time": "2021-07-27T22:32:28.547993",
     "status": "completed"
    },
    "tags": []
   },
   "source": [
    "# Data Loading"
   ]
  },
  {
   "cell_type": "code",
   "execution_count": 2,
   "id": "462e8335",
   "metadata": {
    "execution": {
     "iopub.execute_input": "2021-07-27T22:32:28.610644Z",
     "iopub.status.busy": "2021-07-27T22:32:28.610089Z",
     "iopub.status.idle": "2021-07-27T22:32:29.692454Z",
     "shell.execute_reply": "2021-07-27T22:32:29.691932Z",
     "shell.execute_reply.started": "2021-07-27T21:21:40.055237Z"
    },
    "papermill": {
     "duration": 1.106106,
     "end_time": "2021-07-27T22:32:29.692588",
     "exception": false,
     "start_time": "2021-07-27T22:32:28.586482",
     "status": "completed"
    },
    "tags": []
   },
   "outputs": [],
   "source": [
    "train_df = pd.read_csv('../input/news-summary/news_summary_more.csv')\n"
   ]
  },
  {
   "cell_type": "code",
   "execution_count": 3,
   "id": "13867dc6",
   "metadata": {
    "execution": {
     "iopub.execute_input": "2021-07-27T22:32:29.743226Z",
     "iopub.status.busy": "2021-07-27T22:32:29.742630Z",
     "iopub.status.idle": "2021-07-27T22:32:29.759758Z",
     "shell.execute_reply": "2021-07-27T22:32:29.760167Z",
     "shell.execute_reply.started": "2021-07-27T21:21:43.723933Z"
    },
    "papermill": {
     "duration": 0.047837,
     "end_time": "2021-07-27T22:32:29.760295",
     "exception": false,
     "start_time": "2021-07-27T22:32:29.712458",
     "status": "completed"
    },
    "tags": []
   },
   "outputs": [
    {
     "data": {
      "text/html": [
       "<div>\n",
       "<style scoped>\n",
       "    .dataframe tbody tr th:only-of-type {\n",
       "        vertical-align: middle;\n",
       "    }\n",
       "\n",
       "    .dataframe tbody tr th {\n",
       "        vertical-align: top;\n",
       "    }\n",
       "\n",
       "    .dataframe thead th {\n",
       "        text-align: right;\n",
       "    }\n",
       "</style>\n",
       "<table border=\"1\" class=\"dataframe\">\n",
       "  <thead>\n",
       "    <tr style=\"text-align: right;\">\n",
       "      <th></th>\n",
       "      <th>headlines</th>\n",
       "      <th>text</th>\n",
       "    </tr>\n",
       "  </thead>\n",
       "  <tbody>\n",
       "    <tr>\n",
       "      <th>0</th>\n",
       "      <td>upGrad learner switches to career in ML &amp; Al w...</td>\n",
       "      <td>Saurav Kant, an alumnus of upGrad and IIIT-B's...</td>\n",
       "    </tr>\n",
       "    <tr>\n",
       "      <th>1</th>\n",
       "      <td>Delhi techie wins free food from Swiggy for on...</td>\n",
       "      <td>Kunal Shah's credit card bill payment platform...</td>\n",
       "    </tr>\n",
       "    <tr>\n",
       "      <th>2</th>\n",
       "      <td>New Zealand end Rohit Sharma-led India's 12-ma...</td>\n",
       "      <td>New Zealand defeated India by 8 wickets in the...</td>\n",
       "    </tr>\n",
       "    <tr>\n",
       "      <th>3</th>\n",
       "      <td>Aegon life iTerm insurance plan helps customer...</td>\n",
       "      <td>With Aegon Life iTerm Insurance plan, customer...</td>\n",
       "    </tr>\n",
       "    <tr>\n",
       "      <th>4</th>\n",
       "      <td>Have known Hirani for yrs, what if MeToo claim...</td>\n",
       "      <td>Speaking about the sexual harassment allegatio...</td>\n",
       "    </tr>\n",
       "    <tr>\n",
       "      <th>...</th>\n",
       "      <td>...</td>\n",
       "      <td>...</td>\n",
       "    </tr>\n",
       "    <tr>\n",
       "      <th>98396</th>\n",
       "      <td>CRPF jawan axed to death by Maoists in Chhatti...</td>\n",
       "      <td>A CRPF jawan was on Tuesday axed to death with...</td>\n",
       "    </tr>\n",
       "    <tr>\n",
       "      <th>98397</th>\n",
       "      <td>First song from Sonakshi Sinha's 'Noor' titled...</td>\n",
       "      <td>'Uff Yeh', the first song from the Sonakshi Si...</td>\n",
       "    </tr>\n",
       "    <tr>\n",
       "      <th>98398</th>\n",
       "      <td>'The Matrix' film to get a reboot: Reports</td>\n",
       "      <td>According to reports, a new version of the 199...</td>\n",
       "    </tr>\n",
       "    <tr>\n",
       "      <th>98399</th>\n",
       "      <td>Snoop Dogg aims gun at clown dressed as Trump ...</td>\n",
       "      <td>A new music video shows rapper Snoop Dogg aimi...</td>\n",
       "    </tr>\n",
       "    <tr>\n",
       "      <th>98400</th>\n",
       "      <td>Madhesi Morcha withdraws support to Nepalese g...</td>\n",
       "      <td>Madhesi Morcha, an alliance of seven political...</td>\n",
       "    </tr>\n",
       "  </tbody>\n",
       "</table>\n",
       "<p>98401 rows × 2 columns</p>\n",
       "</div>"
      ],
      "text/plain": [
       "                                               headlines  \\\n",
       "0      upGrad learner switches to career in ML & Al w...   \n",
       "1      Delhi techie wins free food from Swiggy for on...   \n",
       "2      New Zealand end Rohit Sharma-led India's 12-ma...   \n",
       "3      Aegon life iTerm insurance plan helps customer...   \n",
       "4      Have known Hirani for yrs, what if MeToo claim...   \n",
       "...                                                  ...   \n",
       "98396  CRPF jawan axed to death by Maoists in Chhatti...   \n",
       "98397  First song from Sonakshi Sinha's 'Noor' titled...   \n",
       "98398         'The Matrix' film to get a reboot: Reports   \n",
       "98399  Snoop Dogg aims gun at clown dressed as Trump ...   \n",
       "98400  Madhesi Morcha withdraws support to Nepalese g...   \n",
       "\n",
       "                                                    text  \n",
       "0      Saurav Kant, an alumnus of upGrad and IIIT-B's...  \n",
       "1      Kunal Shah's credit card bill payment platform...  \n",
       "2      New Zealand defeated India by 8 wickets in the...  \n",
       "3      With Aegon Life iTerm Insurance plan, customer...  \n",
       "4      Speaking about the sexual harassment allegatio...  \n",
       "...                                                  ...  \n",
       "98396  A CRPF jawan was on Tuesday axed to death with...  \n",
       "98397  'Uff Yeh', the first song from the Sonakshi Si...  \n",
       "98398  According to reports, a new version of the 199...  \n",
       "98399  A new music video shows rapper Snoop Dogg aimi...  \n",
       "98400  Madhesi Morcha, an alliance of seven political...  \n",
       "\n",
       "[98401 rows x 2 columns]"
      ]
     },
     "execution_count": 3,
     "metadata": {},
     "output_type": "execute_result"
    }
   ],
   "source": [
    "train_df"
   ]
  },
  {
   "cell_type": "markdown",
   "id": "323a3bfd",
   "metadata": {
    "papermill": {
     "duration": 0.019727,
     "end_time": "2021-07-27T22:32:29.799953",
     "exception": false,
     "start_time": "2021-07-27T22:32:29.780226",
     "status": "completed"
    },
    "tags": []
   },
   "source": [
    "# Preprocessing"
   ]
  },
  {
   "cell_type": "code",
   "execution_count": 4,
   "id": "9f871c52",
   "metadata": {
    "execution": {
     "iopub.execute_input": "2021-07-27T22:32:29.852567Z",
     "iopub.status.busy": "2021-07-27T22:32:29.851801Z",
     "iopub.status.idle": "2021-07-27T22:32:29.854791Z",
     "shell.execute_reply": "2021-07-27T22:32:29.855181Z",
     "shell.execute_reply.started": "2021-07-27T21:21:47.536181Z"
    },
    "papermill": {
     "duration": 0.035596,
     "end_time": "2021-07-27T22:32:29.855308",
     "exception": false,
     "start_time": "2021-07-27T22:32:29.819712",
     "status": "completed"
    },
    "tags": []
   },
   "outputs": [],
   "source": [
    "#Contraction mapping\n",
    "contraction_mapping = {\"ain't\": \"is not\", \"aren't\": \"are not\",\"can't\": \"cannot\", \"'cause\": \"because\", \"could've\": \"could have\", \"couldn't\": \"could not\",\n",
    "\n",
    "                           \"didn't\": \"did not\", \"doesn't\": \"does not\", \"don't\": \"do not\", \"hadn't\": \"had not\", \"hasn't\": \"has not\", \"haven't\": \"have not\",\n",
    "\n",
    "                           \"he'd\": \"he would\",\"he'll\": \"he will\", \"he's\": \"he is\", \"how'd\": \"how did\", \"how'd'y\": \"how do you\", \"how'll\": \"how will\", \"how's\": \"how is\",\n",
    "\n",
    "                           \"I'd\": \"I would\", \"I'd've\": \"I would have\", \"I'll\": \"I will\", \"I'll've\": \"I will have\",\"I'm\": \"I am\", \"I've\": \"I have\", \"i'd\": \"i would\",\n",
    "\n",
    "                           \"i'd've\": \"i would have\", \"i'll\": \"i will\",  \"i'll've\": \"i will have\",\"i'm\": \"i am\", \"i've\": \"i have\", \"isn't\": \"is not\", \"it'd\": \"it would\",\n",
    "\n",
    "                           \"it'd've\": \"it would have\", \"it'll\": \"it will\", \"it'll've\": \"it will have\",\"it's\": \"it is\", \"let's\": \"let us\", \"ma'am\": \"madam\",\n",
    "\n",
    "                           \"mayn't\": \"may not\", \"might've\": \"might have\",\"mightn't\": \"might not\",\"mightn't've\": \"might not have\", \"must've\": \"must have\",\n",
    "\n",
    "                           \"mustn't\": \"must not\", \"mustn't've\": \"must not have\", \"needn't\": \"need not\", \"needn't've\": \"need not have\",\"o'clock\": \"of the clock\",\n",
    "\n",
    "                           \"oughtn't\": \"ought not\", \"oughtn't've\": \"ought not have\", \"shan't\": \"shall not\", \"sha'n't\": \"shall not\", \"shan't've\": \"shall not have\",\n",
    "\n",
    "                           \"she'd\": \"she would\", \"she'd've\": \"she would have\", \"she'll\": \"she will\", \"she'll've\": \"she will have\", \"she's\": \"she is\",\n",
    "\n",
    "                           \"should've\": \"should have\", \"shouldn't\": \"should not\", \"shouldn't've\": \"should not have\", \"so've\": \"so have\",\"so's\": \"so as\",\n",
    "\n",
    "                           \"this's\": \"this is\",\"that'd\": \"that would\", \"that'd've\": \"that would have\", \"that's\": \"that is\", \"there'd\": \"there would\",\n",
    "\n",
    "                           \"there'd've\": \"there would have\", \"there's\": \"there is\", \"here's\": \"here is\",\"they'd\": \"they would\", \"they'd've\": \"they would have\",\n",
    "\n",
    "                           \"they'll\": \"they will\", \"they'll've\": \"they will have\", \"they're\": \"they are\", \"they've\": \"they have\", \"to've\": \"to have\",\n",
    "\n",
    "                           \"wasn't\": \"was not\", \"we'd\": \"we would\", \"we'd've\": \"we would have\", \"we'll\": \"we will\", \"we'll've\": \"we will have\", \"we're\": \"we are\",\n",
    "\n",
    "                           \"we've\": \"we have\", \"weren't\": \"were not\", \"what'll\": \"what will\", \"what'll've\": \"what will have\", \"what're\": \"what are\",\n",
    "\n",
    "                           \"what's\": \"what is\", \"what've\": \"what have\", \"when's\": \"when is\", \"when've\": \"when have\", \"where'd\": \"where did\", \"where's\": \"where is\",\n",
    "\n",
    "                           \"where've\": \"where have\", \"who'll\": \"who will\", \"who'll've\": \"who will have\", \"who's\": \"who is\", \"who've\": \"who have\",\n",
    "\n",
    "                           \"why's\": \"why is\", \"why've\": \"why have\", \"will've\": \"will have\", \"won't\": \"will not\", \"won't've\": \"will not have\",\n",
    "\n",
    "                           \"would've\": \"would have\", \"wouldn't\": \"would not\", \"wouldn't've\": \"would not have\", \"y'all\": \"you all\",\n",
    "\n",
    "                           \"y'all'd\": \"you all would\",\"y'all'd've\": \"you all would have\",\"y'all're\": \"you all are\",\"y'all've\": \"you all have\",\n",
    "\n",
    "                           \"you'd\": \"you would\", \"you'd've\": \"you would have\", \"you'll\": \"you will\", \"you'll've\": \"you will have\",\n",
    "\n",
    "                           \"you're\": \"you are\", \"you've\": \"you have\"}"
   ]
  },
  {
   "cell_type": "code",
   "execution_count": 5,
   "id": "4509a2c2",
   "metadata": {
    "execution": {
     "iopub.execute_input": "2021-07-27T22:32:29.901571Z",
     "iopub.status.busy": "2021-07-27T22:32:29.900948Z",
     "iopub.status.idle": "2021-07-27T22:32:29.907303Z",
     "shell.execute_reply": "2021-07-27T22:32:29.906870Z",
     "shell.execute_reply.started": "2021-07-27T21:21:49.409150Z"
    },
    "papermill": {
     "duration": 0.032468,
     "end_time": "2021-07-27T22:32:29.907413",
     "exception": false,
     "start_time": "2021-07-27T22:32:29.874945",
     "status": "completed"
    },
    "tags": []
   },
   "outputs": [],
   "source": [
    "#get stopwords from NLTK\n",
    "stop_words = set(stopwords.words('english')) \n",
    "\n",
    "#this function cleans the text\n",
    "def text_cleaner(text):\n",
    "    \"\"\"\n",
    "    This function cleanes the texts and returns the cleaned senctance.\n",
    "    \n",
    "    Input:\n",
    "    text - Any string\n",
    "    \n",
    "    Output:\n",
    "    Sentance - Cleaned string\n",
    "    \"\"\"\n",
    "    \n",
    "    newString = text.lower()\n",
    "    newString = re.sub(r'\\([^)]*\\)', '', newString)\n",
    "    newString = re.sub('\"','', newString)\n",
    "    newString = ' '.join([contraction_mapping[t] if t in contraction_mapping else t for t in newString.split(\" \")])    \n",
    "    newString = re.sub(r\"'s\\b\",\"\",newString)\n",
    "    newString = re.sub(\"[^a-zA-Z]\", \" \", newString) \n",
    "    tokens = [w for w in newString.split() if not w in stop_words]\n",
    "     \n",
    "            \n",
    "    return (\" \".join(tokens)).strip()"
   ]
  },
  {
   "cell_type": "code",
   "execution_count": 6,
   "id": "fff6bc5a",
   "metadata": {
    "execution": {
     "iopub.execute_input": "2021-07-27T22:32:29.952515Z",
     "iopub.status.busy": "2021-07-27T22:32:29.951598Z",
     "iopub.status.idle": "2021-07-27T22:32:37.340834Z",
     "shell.execute_reply": "2021-07-27T22:32:37.339872Z",
     "shell.execute_reply.started": "2021-07-27T21:22:22.107784Z"
    },
    "papermill": {
     "duration": 7.413684,
     "end_time": "2021-07-27T22:32:37.340977",
     "exception": false,
     "start_time": "2021-07-27T22:32:29.927293",
     "status": "completed"
    },
    "tags": []
   },
   "outputs": [],
   "source": [
    "#Applying the functions to clean each column\n",
    "\n",
    "train_df.headlines = train_df.headlines.apply(text_cleaner)\n",
    "train_df.text = train_df.text.apply(text_cleaner)"
   ]
  },
  {
   "cell_type": "code",
   "execution_count": 7,
   "id": "e688aaf3",
   "metadata": {
    "execution": {
     "iopub.execute_input": "2021-07-27T22:32:37.393519Z",
     "iopub.status.busy": "2021-07-27T22:32:37.392934Z",
     "iopub.status.idle": "2021-07-27T22:32:37.396214Z",
     "shell.execute_reply": "2021-07-27T22:32:37.396607Z",
     "shell.execute_reply.started": "2021-07-27T21:22:32.420513Z"
    },
    "papermill": {
     "duration": 0.035153,
     "end_time": "2021-07-27T22:32:37.396728",
     "exception": false,
     "start_time": "2021-07-27T22:32:37.361575",
     "status": "completed"
    },
    "tags": []
   },
   "outputs": [
    {
     "data": {
      "text/html": [
       "<div>\n",
       "<style scoped>\n",
       "    .dataframe tbody tr th:only-of-type {\n",
       "        vertical-align: middle;\n",
       "    }\n",
       "\n",
       "    .dataframe tbody tr th {\n",
       "        vertical-align: top;\n",
       "    }\n",
       "\n",
       "    .dataframe thead th {\n",
       "        text-align: right;\n",
       "    }\n",
       "</style>\n",
       "<table border=\"1\" class=\"dataframe\">\n",
       "  <thead>\n",
       "    <tr style=\"text-align: right;\">\n",
       "      <th></th>\n",
       "      <th>headlines</th>\n",
       "      <th>text</th>\n",
       "    </tr>\n",
       "  </thead>\n",
       "  <tbody>\n",
       "    <tr>\n",
       "      <th>0</th>\n",
       "      <td>upgrad learner switches career ml al salary hike</td>\n",
       "      <td>saurav kant alumnus upgrad iiit b pg program m...</td>\n",
       "    </tr>\n",
       "    <tr>\n",
       "      <th>1</th>\n",
       "      <td>delhi techie wins free food swiggy one year cred</td>\n",
       "      <td>kunal shah credit card bill payment platform c...</td>\n",
       "    </tr>\n",
       "    <tr>\n",
       "      <th>2</th>\n",
       "      <td>new zealand end rohit sharma led india match w...</td>\n",
       "      <td>new zealand defeated india wickets fourth odi ...</td>\n",
       "    </tr>\n",
       "    <tr>\n",
       "      <th>3</th>\n",
       "      <td>aegon life iterm insurance plan helps customer...</td>\n",
       "      <td>aegon life iterm insurance plan customers enjo...</td>\n",
       "    </tr>\n",
       "    <tr>\n",
       "      <th>4</th>\n",
       "      <td>known hirani yrs metoo claims true sonam</td>\n",
       "      <td>speaking sexual harassment allegations rajkuma...</td>\n",
       "    </tr>\n",
       "    <tr>\n",
       "      <th>...</th>\n",
       "      <td>...</td>\n",
       "      <td>...</td>\n",
       "    </tr>\n",
       "    <tr>\n",
       "      <th>98396</th>\n",
       "      <td>crpf jawan axed death maoists chhattisgarh</td>\n",
       "      <td>crpf jawan tuesday axed death sharp edged weap...</td>\n",
       "    </tr>\n",
       "    <tr>\n",
       "      <th>98397</th>\n",
       "      <td>first song sonakshi sinha noor titled uff yeh</td>\n",
       "      <td>uff yeh first song sonakshi sinha starrer upco...</td>\n",
       "    </tr>\n",
       "    <tr>\n",
       "      <th>98398</th>\n",
       "      <td>matrix film get reboot reports</td>\n",
       "      <td>according reports new version science fiction ...</td>\n",
       "    </tr>\n",
       "    <tr>\n",
       "      <th>98399</th>\n",
       "      <td>snoop dogg aims gun clown dressed trump new video</td>\n",
       "      <td>new music video shows rapper snoop dogg aiming...</td>\n",
       "    </tr>\n",
       "    <tr>\n",
       "      <th>98400</th>\n",
       "      <td>madhesi morcha withdraws support nepalese gove...</td>\n",
       "      <td>madhesi morcha alliance seven political partie...</td>\n",
       "    </tr>\n",
       "  </tbody>\n",
       "</table>\n",
       "<p>98401 rows × 2 columns</p>\n",
       "</div>"
      ],
      "text/plain": [
       "                                               headlines  \\\n",
       "0       upgrad learner switches career ml al salary hike   \n",
       "1       delhi techie wins free food swiggy one year cred   \n",
       "2      new zealand end rohit sharma led india match w...   \n",
       "3      aegon life iterm insurance plan helps customer...   \n",
       "4               known hirani yrs metoo claims true sonam   \n",
       "...                                                  ...   \n",
       "98396         crpf jawan axed death maoists chhattisgarh   \n",
       "98397      first song sonakshi sinha noor titled uff yeh   \n",
       "98398                     matrix film get reboot reports   \n",
       "98399  snoop dogg aims gun clown dressed trump new video   \n",
       "98400  madhesi morcha withdraws support nepalese gove...   \n",
       "\n",
       "                                                    text  \n",
       "0      saurav kant alumnus upgrad iiit b pg program m...  \n",
       "1      kunal shah credit card bill payment platform c...  \n",
       "2      new zealand defeated india wickets fourth odi ...  \n",
       "3      aegon life iterm insurance plan customers enjo...  \n",
       "4      speaking sexual harassment allegations rajkuma...  \n",
       "...                                                  ...  \n",
       "98396  crpf jawan tuesday axed death sharp edged weap...  \n",
       "98397  uff yeh first song sonakshi sinha starrer upco...  \n",
       "98398  according reports new version science fiction ...  \n",
       "98399  new music video shows rapper snoop dogg aiming...  \n",
       "98400  madhesi morcha alliance seven political partie...  \n",
       "\n",
       "[98401 rows x 2 columns]"
      ]
     },
     "execution_count": 7,
     "metadata": {},
     "output_type": "execute_result"
    }
   ],
   "source": [
    "train_df"
   ]
  },
  {
   "cell_type": "code",
   "execution_count": 8,
   "id": "34fd2be8",
   "metadata": {
    "execution": {
     "iopub.execute_input": "2021-07-27T22:32:37.451926Z",
     "iopub.status.busy": "2021-07-27T22:32:37.441661Z",
     "iopub.status.idle": "2021-07-27T22:32:37.488651Z",
     "shell.execute_reply": "2021-07-27T22:32:37.488237Z",
     "shell.execute_reply.started": "2021-07-27T21:22:46.688805Z"
    },
    "papermill": {
     "duration": 0.07165,
     "end_time": "2021-07-27T22:32:37.488764",
     "exception": false,
     "start_time": "2021-07-27T22:32:37.417114",
     "status": "completed"
    },
    "tags": []
   },
   "outputs": [],
   "source": [
    "train_df.headlines = train_df.headlines.apply(lambda x : '_START_ '+ x + ' _END_')"
   ]
  },
  {
   "cell_type": "markdown",
   "id": "da084e78",
   "metadata": {
    "papermill": {
     "duration": 0.020238,
     "end_time": "2021-07-27T22:32:37.529392",
     "exception": false,
     "start_time": "2021-07-27T22:32:37.509154",
     "status": "completed"
    },
    "tags": []
   },
   "source": [
    "# Tokenizing"
   ]
  },
  {
   "cell_type": "code",
   "execution_count": 9,
   "id": "15759d67",
   "metadata": {
    "execution": {
     "iopub.execute_input": "2021-07-27T22:32:37.613417Z",
     "iopub.status.busy": "2021-07-27T22:32:37.608249Z",
     "iopub.status.idle": "2021-07-27T22:32:38.012059Z",
     "shell.execute_reply": "2021-07-27T22:32:38.011596Z",
     "shell.execute_reply.started": "2021-07-27T21:23:03.641457Z"
    },
    "papermill": {
     "duration": 0.462422,
     "end_time": "2021-07-27T22:32:38.012190",
     "exception": false,
     "start_time": "2021-07-27T22:32:37.549768",
     "status": "completed"
    },
    "tags": []
   },
   "outputs": [],
   "source": [
    "#Distribution of words\n",
    "\n",
    "text_count = []\n",
    "summary_count = []\n",
    "\n",
    "for sent in train_df.headlines:\n",
    "    text_count.append(len(sent.split()))\n",
    "    \n",
    "for sent in train_df.text:\n",
    "    summary_count.append(len(sent.split()))\n",
    "\n",
    "graph_df = pd.DataFrame() \n",
    "\n",
    "graph_df['text'] = text_count\n",
    "graph_df['summary'] = summary_count\n",
    "\n"
   ]
  },
  {
   "cell_type": "code",
   "execution_count": 10,
   "id": "47594e48",
   "metadata": {
    "execution": {
     "iopub.execute_input": "2021-07-27T22:32:38.061233Z",
     "iopub.status.busy": "2021-07-27T22:32:38.060332Z",
     "iopub.status.idle": "2021-07-27T22:32:38.080909Z",
     "shell.execute_reply": "2021-07-27T22:32:38.080445Z",
     "shell.execute_reply.started": "2021-07-27T21:23:07.853585Z"
    },
    "papermill": {
     "duration": 0.048369,
     "end_time": "2021-07-27T22:32:38.081014",
     "exception": false,
     "start_time": "2021-07-27T22:32:38.032645",
     "status": "completed"
    },
    "tags": []
   },
   "outputs": [
    {
     "data": {
      "text/html": [
       "<div>\n",
       "<style scoped>\n",
       "    .dataframe tbody tr th:only-of-type {\n",
       "        vertical-align: middle;\n",
       "    }\n",
       "\n",
       "    .dataframe tbody tr th {\n",
       "        vertical-align: top;\n",
       "    }\n",
       "\n",
       "    .dataframe thead th {\n",
       "        text-align: right;\n",
       "    }\n",
       "</style>\n",
       "<table border=\"1\" class=\"dataframe\">\n",
       "  <thead>\n",
       "    <tr style=\"text-align: right;\">\n",
       "      <th></th>\n",
       "      <th>text</th>\n",
       "      <th>summary</th>\n",
       "    </tr>\n",
       "  </thead>\n",
       "  <tbody>\n",
       "    <tr>\n",
       "      <th>count</th>\n",
       "      <td>98401.000000</td>\n",
       "      <td>98401.000000</td>\n",
       "    </tr>\n",
       "    <tr>\n",
       "      <th>mean</th>\n",
       "      <td>9.201969</td>\n",
       "      <td>35.194713</td>\n",
       "    </tr>\n",
       "    <tr>\n",
       "      <th>std</th>\n",
       "      <td>1.189666</td>\n",
       "      <td>3.825659</td>\n",
       "    </tr>\n",
       "    <tr>\n",
       "      <th>min</th>\n",
       "      <td>3.000000</td>\n",
       "      <td>1.000000</td>\n",
       "    </tr>\n",
       "    <tr>\n",
       "      <th>25%</th>\n",
       "      <td>8.000000</td>\n",
       "      <td>33.000000</td>\n",
       "    </tr>\n",
       "    <tr>\n",
       "      <th>50%</th>\n",
       "      <td>9.000000</td>\n",
       "      <td>35.000000</td>\n",
       "    </tr>\n",
       "    <tr>\n",
       "      <th>75%</th>\n",
       "      <td>10.000000</td>\n",
       "      <td>38.000000</td>\n",
       "    </tr>\n",
       "    <tr>\n",
       "      <th>max</th>\n",
       "      <td>15.000000</td>\n",
       "      <td>60.000000</td>\n",
       "    </tr>\n",
       "  </tbody>\n",
       "</table>\n",
       "</div>"
      ],
      "text/plain": [
       "               text       summary\n",
       "count  98401.000000  98401.000000\n",
       "mean       9.201969     35.194713\n",
       "std        1.189666      3.825659\n",
       "min        3.000000      1.000000\n",
       "25%        8.000000     33.000000\n",
       "50%        9.000000     35.000000\n",
       "75%       10.000000     38.000000\n",
       "max       15.000000     60.000000"
      ]
     },
     "execution_count": 10,
     "metadata": {},
     "output_type": "execute_result"
    }
   ],
   "source": [
    "graph_df.describe()"
   ]
  },
  {
   "cell_type": "code",
   "execution_count": 11,
   "id": "c3893e34",
   "metadata": {
    "execution": {
     "iopub.execute_input": "2021-07-27T22:32:38.126607Z",
     "iopub.status.busy": "2021-07-27T22:32:38.126007Z",
     "iopub.status.idle": "2021-07-27T22:32:38.422808Z",
     "shell.execute_reply": "2021-07-27T22:32:38.423298Z",
     "shell.execute_reply.started": "2021-07-27T21:23:13.873398Z"
    },
    "papermill": {
     "duration": 0.32114,
     "end_time": "2021-07-27T22:32:38.423453",
     "exception": false,
     "start_time": "2021-07-27T22:32:38.102313",
     "status": "completed"
    },
    "tags": []
   },
   "outputs": [
    {
     "data": {
      "image/png": "[encoded data removed]",
      "text/plain": [
       "<Figure size 432x288 with 2 Axes>"
      ]
     },
     "metadata": {
      "needs_background": "light"
     },
     "output_type": "display_data"
    }
   ],
   "source": [
    "graph_df.hist(bins = 20)\n",
    "plt.show()"
   ]
  },
  {
   "cell_type": "code",
   "execution_count": 12,
   "id": "2b07b724",
   "metadata": {
    "execution": {
     "iopub.execute_input": "2021-07-27T22:32:38.470008Z",
     "iopub.status.busy": "2021-07-27T22:32:38.469287Z",
     "iopub.status.idle": "2021-07-27T22:32:38.472361Z",
     "shell.execute_reply": "2021-07-27T22:32:38.471889Z",
     "shell.execute_reply.started": "2021-07-27T20:18:50.224555Z"
    },
    "papermill": {
     "duration": 0.027703,
     "end_time": "2021-07-27T22:32:38.472463",
     "exception": false,
     "start_time": "2021-07-27T22:32:38.444760",
     "status": "completed"
    },
    "tags": []
   },
   "outputs": [],
   "source": [
    "# Maximum length for each input and target \n",
    "max_text_len = 46\n",
    "max_summary_len = 15"
   ]
  },
  {
   "cell_type": "code",
   "execution_count": 13,
   "id": "62737d13",
   "metadata": {
    "execution": {
     "iopub.execute_input": "2021-07-27T22:32:38.519047Z",
     "iopub.status.busy": "2021-07-27T22:32:38.518328Z",
     "iopub.status.idle": "2021-07-27T22:32:38.538234Z",
     "shell.execute_reply": "2021-07-27T22:32:38.537786Z",
     "shell.execute_reply.started": "2021-07-27T21:24:01.689891Z"
    },
    "papermill": {
     "duration": 0.044697,
     "end_time": "2021-07-27T22:32:38.538339",
     "exception": false,
     "start_time": "2021-07-27T22:32:38.493642",
     "status": "completed"
    },
    "tags": []
   },
   "outputs": [],
   "source": [
    "#Train and test split\n",
    "from sklearn.model_selection import train_test_split\n",
    "\n",
    "X_train, X_test, y_train, y_test = train_test_split(train_df.text, train_df.headlines, test_size = 0.1, shuffle = True)"
   ]
  },
  {
   "cell_type": "code",
   "execution_count": 14,
   "id": "5e6b0d2e",
   "metadata": {
    "execution": {
     "iopub.execute_input": "2021-07-27T22:32:38.586922Z",
     "iopub.status.busy": "2021-07-27T22:32:38.586201Z",
     "iopub.status.idle": "2021-07-27T22:32:38.588924Z",
     "shell.execute_reply": "2021-07-27T22:32:38.588412Z",
     "shell.execute_reply.started": "2021-07-27T21:24:04.800456Z"
    },
    "papermill": {
     "duration": 0.029228,
     "end_time": "2021-07-27T22:32:38.589042",
     "exception": false,
     "start_time": "2021-07-27T22:32:38.559814",
     "status": "completed"
    },
    "tags": []
   },
   "outputs": [],
   "source": [
    "def sequence_tokenizer(train, test, max_len):\n",
    "    \"\"\"\n",
    "    This function tokenizes and adds padding to a sequence of texts.\n",
    "    \n",
    "    Input:\n",
    "    train - Train data which contains sentances.\n",
    "    test - Test data, which also contains sentances.\n",
    "    max_len - Argument to specify the maximum length for padding.\n",
    "    \n",
    "    Output:\n",
    "    train - Toeknized train data\n",
    "    test - Tokenized test data\n",
    "    tokenizer - The tokenizer instance ( To invert back in the future )\n",
    "    \"\"\"\n",
    "    \n",
    "    #Initialize the tokenizer\n",
    "    tokenizer = Tokenizer()\n",
    "    tokenizer.fit_on_texts(train)\n",
    "    \n",
    "    #Texts to integer squences\n",
    "    train = tokenizer.texts_to_sequences(train)\n",
    "    test = tokenizer.texts_to_sequences(test)\n",
    "    \n",
    "    #Add padding\n",
    "    train = pad_sequences(train, maxlen= max_len, padding = 'post')\n",
    "    test = pad_sequences(test, maxlen= max_len, padding = 'post')\n",
    "    \n",
    "    return train, test, tokenizer\n",
    "    "
   ]
  },
  {
   "cell_type": "code",
   "execution_count": 15,
   "id": "310ceaa9",
   "metadata": {
    "execution": {
     "iopub.execute_input": "2021-07-27T22:32:38.669926Z",
     "iopub.status.busy": "2021-07-27T22:32:38.659581Z",
     "iopub.status.idle": "2021-07-27T22:32:48.633565Z",
     "shell.execute_reply": "2021-07-27T22:32:48.632996Z",
     "shell.execute_reply.started": "2021-07-27T21:24:05.254654Z"
    },
    "papermill": {
     "duration": 10.023124,
     "end_time": "2021-07-27T22:32:48.633700",
     "exception": false,
     "start_time": "2021-07-27T22:32:38.610576",
     "status": "completed"
    },
    "tags": []
   },
   "outputs": [],
   "source": [
    "X_train, X_test, X_tokenizer = sequence_tokenizer(X_train, X_test, max_text_len)\n",
    "y_train, y_test, y_tokenizer = sequence_tokenizer(y_train, y_test, max_summary_len)"
   ]
  },
  {
   "cell_type": "code",
   "execution_count": 16,
   "id": "54b40b4e",
   "metadata": {
    "execution": {
     "iopub.execute_input": "2021-07-27T22:32:48.680953Z",
     "iopub.status.busy": "2021-07-27T22:32:48.679960Z",
     "iopub.status.idle": "2021-07-27T22:32:48.682289Z",
     "shell.execute_reply": "2021-07-27T22:32:48.682657Z",
     "shell.execute_reply.started": "2021-07-27T21:24:19.448762Z"
    },
    "papermill": {
     "duration": 0.027367,
     "end_time": "2021-07-27T22:32:48.682784",
     "exception": false,
     "start_time": "2021-07-27T22:32:48.655417",
     "status": "completed"
    },
    "tags": []
   },
   "outputs": [],
   "source": [
    "#Number of words in the vocabulary and + 1 for padding \n",
    "\n",
    "x_voc = len(X_tokenizer.word_index) + 1\n",
    "y_voc = len(y_tokenizer.word_index) + 1"
   ]
  },
  {
   "cell_type": "code",
   "execution_count": 17,
   "id": "131d9a5a",
   "metadata": {
    "execution": {
     "iopub.execute_input": "2021-07-27T22:32:48.729348Z",
     "iopub.status.busy": "2021-07-27T22:32:48.728626Z",
     "iopub.status.idle": "2021-07-27T22:32:48.732770Z",
     "shell.execute_reply": "2021-07-27T22:32:48.733397Z",
     "shell.execute_reply.started": "2021-07-27T21:24:20.521904Z"
    },
    "papermill": {
     "duration": 0.029724,
     "end_time": "2021-07-27T22:32:48.733581",
     "exception": false,
     "start_time": "2021-07-27T22:32:48.703857",
     "status": "completed"
    },
    "tags": []
   },
   "outputs": [
    {
     "name": "stdout",
     "output_type": "stream",
     "text": [
      "Vocubulary size of Text:  73120\n",
      "Vocubulary size of summary:  31263\n"
     ]
    }
   ],
   "source": [
    "print('Vocubulary size of Text: ', x_voc)\n",
    "print('Vocubulary size of summary: ', y_voc)"
   ]
  },
  {
   "cell_type": "markdown",
   "id": "639da085",
   "metadata": {
    "papermill": {
     "duration": 0.021369,
     "end_time": "2021-07-27T22:32:48.777187",
     "exception": false,
     "start_time": "2021-07-27T22:32:48.755818",
     "status": "completed"
    },
    "tags": []
   },
   "source": [
    "# Model Building"
   ]
  },
  {
   "cell_type": "code",
   "execution_count": 18,
   "id": "c1639a5d",
   "metadata": {
    "execution": {
     "iopub.execute_input": "2021-07-27T22:32:48.828689Z",
     "iopub.status.busy": "2021-07-27T22:32:48.828170Z",
     "iopub.status.idle": "2021-07-27T22:32:51.922118Z",
     "shell.execute_reply": "2021-07-27T22:32:51.923009Z",
     "shell.execute_reply.started": "2021-07-27T21:24:38.310717Z"
    },
    "papermill": {
     "duration": 3.124638,
     "end_time": "2021-07-27T22:32:51.923234",
     "exception": false,
     "start_time": "2021-07-27T22:32:48.798596",
     "status": "completed"
    },
    "tags": []
   },
   "outputs": [
    {
     "name": "stdout",
     "output_type": "stream",
     "text": [
      "Model: \"model\"\n",
      "__________________________________________________________________________________________________\n",
      "Layer (type)                    Output Shape         Param #     Connected to                     \n",
      "==================================================================================================\n",
      "input_1 (InputLayer)            [(None, 46)]         0                                            \n",
      "__________________________________________________________________________________________________\n",
      "embedding (Embedding)           (None, 46, 200)      14624000    input_1[0][0]                    \n",
      "__________________________________________________________________________________________________\n",
      "lstm (LSTM)                     [(None, 46, 500), (N 1402000     embedding[0][0]                  \n",
      "__________________________________________________________________________________________________\n",
      "input_2 (InputLayer)            [(None, None)]       0                                            \n",
      "__________________________________________________________________________________________________\n",
      "lstm_1 (LSTM)                   [(None, 46, 500), (N 2002000     lstm[0][0]                       \n",
      "__________________________________________________________________________________________________\n",
      "embedding_1 (Embedding)         (None, None, 200)    6252600     input_2[0][0]                    \n",
      "__________________________________________________________________________________________________\n",
      "lstm_2 (LSTM)                   [(None, 46, 500), (N 2002000     lstm_1[0][0]                     \n",
      "__________________________________________________________________________________________________\n",
      "lstm_3 (LSTM)                   [(None, None, 500),  1402000     embedding_1[0][0]                \n",
      "                                                                 lstm_2[0][1]                     \n",
      "                                                                 lstm_2[0][2]                     \n",
      "__________________________________________________________________________________________________\n",
      "time_distributed (TimeDistribut (None, None, 31263)  15662763    lstm_3[0][0]                     \n",
      "==================================================================================================\n",
      "Total params: 43,347,363\n",
      "Trainable params: 43,347,363\n",
      "Non-trainable params: 0\n",
      "__________________________________________________________________________________________________\n"
     ]
    }
   ],
   "source": [
    "latent_dim = 500\n",
    "embedding_dim = 200\n",
    "\n",
    "# Encoder\n",
    "encoder_inputs = Input(shape=(max_text_len, ))\n",
    "\n",
    "# Embedding layer\n",
    "enc_emb = Embedding(x_voc, embedding_dim,\n",
    "                    trainable=True)(encoder_inputs)\n",
    "\n",
    "# Encoder LSTM 1\n",
    "encoder_lstm1 = LSTM(latent_dim, return_sequences=True,\n",
    "                     return_state=True, dropout=0.4,\n",
    "                     recurrent_dropout=0.4)\n",
    "(encoder_output1, state_h1, state_c1) = encoder_lstm1(enc_emb)\n",
    "\n",
    "# Encoder LSTM 2\n",
    "encoder_lstm2 = LSTM(latent_dim, return_sequences=True,\n",
    "                     return_state=True, dropout=0.4,\n",
    "                     recurrent_dropout=0.4)\n",
    "(encoder_output2, state_h2, state_c2) = encoder_lstm2(encoder_output1)\n",
    "\n",
    "# Encoder LSTM 3\n",
    "encoder_lstm3 = LSTM(latent_dim, return_state=True,\n",
    "                     return_sequences=True, dropout=0.4,\n",
    "                     recurrent_dropout=0.4)\n",
    "(encoder_outputs, state_h, state_c) = encoder_lstm3(encoder_output2)\n",
    "\n",
    "# Set up the decoder, using encoder_states as the initial state\n",
    "decoder_inputs = Input(shape=(None, ))\n",
    "\n",
    "# Embedding layer\n",
    "dec_emb_layer = Embedding(y_voc, embedding_dim, trainable=True)\n",
    "dec_emb = dec_emb_layer(decoder_inputs)\n",
    "\n",
    "# Decoder LSTM\n",
    "decoder_lstm = LSTM(latent_dim, return_sequences=True,\n",
    "                    return_state=True, dropout=0.4,\n",
    "                    recurrent_dropout=0.2)\n",
    "(decoder_outputs, decoder_fwd_state, decoder_back_state) = decoder_lstm(dec_emb, initial_state=[state_h, state_c])\n",
    "\n",
    "# Dense layer\n",
    "decoder_dense = TimeDistributed(Dense(y_voc, activation='softmax'))\n",
    "decoder_outputs = decoder_dense(decoder_outputs)\n",
    "\n",
    "# Define the model\n",
    "model = Model([encoder_inputs, decoder_inputs], decoder_outputs)\n",
    "\n",
    "model.summary()"
   ]
  },
  {
   "cell_type": "code",
   "execution_count": 19,
   "id": "2be73582",
   "metadata": {
    "execution": {
     "iopub.execute_input": "2021-07-27T22:32:51.981366Z",
     "iopub.status.busy": "2021-07-27T22:32:51.978400Z",
     "iopub.status.idle": "2021-07-27T22:32:51.985198Z",
     "shell.execute_reply": "2021-07-27T22:32:51.984757Z",
     "shell.execute_reply.started": "2021-07-27T21:24:44.303795Z"
    },
    "papermill": {
     "duration": 0.039429,
     "end_time": "2021-07-27T22:32:51.985303",
     "exception": false,
     "start_time": "2021-07-27T22:32:51.945874",
     "status": "completed"
    },
    "tags": []
   },
   "outputs": [],
   "source": [
    "model.compile(optimizer='rmsprop', loss='sparse_categorical_crossentropy')\n",
    "\n",
    "#Early stopping\n",
    "es = EarlyStopping(monitor='val_loss', mode='min', verbose=1, patience=2)"
   ]
  },
  {
   "cell_type": "code",
   "execution_count": 20,
   "id": "a0c72ea5",
   "metadata": {
    "execution": {
     "iopub.execute_input": "2021-07-27T22:32:52.033833Z",
     "iopub.status.busy": "2021-07-27T22:32:52.033350Z",
     "iopub.status.idle": "2021-07-28T00:08:38.179793Z",
     "shell.execute_reply": "2021-07-28T00:08:38.179317Z"
    },
    "papermill": {
     "duration": 5746.173119,
     "end_time": "2021-07-28T00:08:38.179919",
     "exception": false,
     "start_time": "2021-07-27T22:32:52.006800",
     "status": "completed"
    },
    "tags": []
   },
   "outputs": [
    {
     "name": "stdout",
     "output_type": "stream",
     "text": [
      "Epoch 1/35\n",
      "296/296 [==============================] - 253s 824ms/step - loss: 5.1501 - val_loss: 4.3079\n",
      "Epoch 2/35\n",
      "296/296 [==============================] - 243s 822ms/step - loss: 4.3682 - val_loss: 4.1346\n",
      "Epoch 3/35\n",
      "296/296 [==============================] - 244s 826ms/step - loss: 4.1595 - val_loss: 3.9254\n",
      "Epoch 4/35\n",
      "296/296 [==============================] - 243s 821ms/step - loss: 3.9135 - val_loss: 3.7241\n",
      "Epoch 5/35\n",
      "296/296 [==============================] - 246s 830ms/step - loss: 3.6721 - val_loss: 3.5658\n",
      "Epoch 6/35\n",
      "296/296 [==============================] - 245s 828ms/step - loss: 3.4745 - val_loss: 3.4526\n",
      "Epoch 7/35\n",
      "296/296 [==============================] - 247s 833ms/step - loss: 3.3115 - val_loss: 3.3340\n",
      "Epoch 8/35\n",
      "296/296 [==============================] - 248s 836ms/step - loss: 3.1742 - val_loss: 3.2609\n",
      "Epoch 9/35\n",
      "296/296 [==============================] - 246s 833ms/step - loss: 3.0468 - val_loss: 3.2003\n",
      "Epoch 10/35\n",
      "296/296 [==============================] - 247s 834ms/step - loss: 2.9413 - val_loss: 3.1566\n",
      "Epoch 11/35\n",
      "296/296 [==============================] - 249s 842ms/step - loss: 2.8401 - val_loss: 3.1091\n",
      "Epoch 12/35\n",
      "296/296 [==============================] - 246s 831ms/step - loss: 2.7584 - val_loss: 3.0675\n",
      "Epoch 13/35\n",
      "296/296 [==============================] - 252s 851ms/step - loss: 2.6694 - val_loss: 3.0517\n",
      "Epoch 14/35\n",
      "296/296 [==============================] - 249s 842ms/step - loss: 2.5999 - val_loss: 3.0328\n",
      "Epoch 15/35\n",
      "296/296 [==============================] - 252s 853ms/step - loss: 2.5327 - val_loss: 3.0147\n",
      "Epoch 16/35\n",
      "296/296 [==============================] - 253s 855ms/step - loss: 2.4693 - val_loss: 3.0114\n",
      "Epoch 17/35\n",
      "296/296 [==============================] - 251s 849ms/step - loss: 2.4100 - val_loss: 3.0062\n",
      "Epoch 18/35\n",
      "296/296 [==============================] - 253s 855ms/step - loss: 2.3520 - val_loss: 2.9935\n",
      "Epoch 19/35\n",
      "296/296 [==============================] - 255s 860ms/step - loss: 2.2987 - val_loss: 2.9915\n",
      "Epoch 20/35\n",
      "296/296 [==============================] - 253s 855ms/step - loss: 2.2483 - val_loss: 2.9828\n",
      "Epoch 21/35\n",
      "296/296 [==============================] - 256s 866ms/step - loss: 2.1981 - val_loss: 2.9828\n",
      "Epoch 22/35\n",
      "296/296 [==============================] - 256s 866ms/step - loss: 2.1541 - val_loss: 2.9878\n",
      "Epoch 23/35\n",
      "296/296 [==============================] - 255s 862ms/step - loss: 2.1087 - val_loss: 2.9899\n",
      "Epoch 00023: early stopping\n"
     ]
    }
   ],
   "source": [
    "#Fitting the model\n",
    "history = model.fit(\n",
    "    [X_train, y_train[:, :-1]], y_train.reshape(y_train.shape[0], y_train.shape[1], 1)[:, 1:],\n",
    "    epochs=35,\n",
    "    callbacks=[es],\n",
    "    batch_size=300,\n",
    "    validation_data=([X_test, y_test[:, :-1]], y_test.reshape(y_test.shape[0], y_test.shape[1], 1)[: , 1:]),\n",
    "    )"
   ]
  },
  {
   "cell_type": "code",
   "execution_count": 21,
   "id": "c9fea778",
   "metadata": {
    "execution": {
     "iopub.execute_input": "2021-07-28T00:08:42.036482Z",
     "iopub.status.busy": "2021-07-28T00:08:42.035608Z",
     "iopub.status.idle": "2021-07-28T00:08:42.037858Z",
     "shell.execute_reply": "2021-07-28T00:08:42.038251Z"
    },
    "papermill": {
     "duration": 2.074821,
     "end_time": "2021-07-28T00:08:42.038388",
     "exception": false,
     "start_time": "2021-07-28T00:08:39.963567",
     "status": "completed"
    },
    "tags": []
   },
   "outputs": [],
   "source": [
    "reverse_target_word_index = y_tokenizer.index_word\n",
    "reverse_source_word_index = X_tokenizer.index_word\n",
    "target_word_index = y_tokenizer.word_index"
   ]
  },
  {
   "cell_type": "code",
   "execution_count": 22,
   "id": "2e4dac1b",
   "metadata": {
    "execution": {
     "iopub.execute_input": "2021-07-28T00:08:45.607948Z",
     "iopub.status.busy": "2021-07-28T00:08:45.607131Z",
     "iopub.status.idle": "2021-07-28T00:08:45.720262Z",
     "shell.execute_reply": "2021-07-28T00:08:45.719819Z"
    },
    "papermill": {
     "duration": 1.892436,
     "end_time": "2021-07-28T00:08:45.720386",
     "exception": false,
     "start_time": "2021-07-28T00:08:43.827950",
     "status": "completed"
    },
    "tags": []
   },
   "outputs": [],
   "source": [
    "# Inference Models\n",
    "\n",
    "# Encode the input sequence to get the feature vector\n",
    "encoder_model = Model(inputs=encoder_inputs, outputs=[encoder_outputs,\n",
    "                      state_h, state_c])\n",
    "\n",
    "# Decoder setup\n",
    "\n",
    "# Below tensors will hold the states of the previous time step\n",
    "decoder_state_input_h = Input(shape=(latent_dim, ))\n",
    "decoder_state_input_c = Input(shape=(latent_dim, ))\n",
    "decoder_hidden_state_input = Input(shape=(max_text_len, latent_dim))\n",
    "\n",
    "# Get the embeddings of the decoder sequence\n",
    "dec_emb2 = dec_emb_layer(decoder_inputs)\n",
    "\n",
    "# To predict the next word in the sequence, set the initial states to the states from the previous time step\n",
    "(decoder_outputs2, state_h2, state_c2) = decoder_lstm(dec_emb2, initial_state=[decoder_state_input_h, decoder_state_input_c])\n",
    "\n",
    "# A dense softmax layer to generate prob dist. over the target vocabulary\n",
    "decoder_outputs2 = decoder_dense(decoder_outputs2)\n",
    "\n",
    "# Final decoder model\n",
    "decoder_model = Model([decoder_inputs] + [decoder_hidden_state_input,\n",
    "                      decoder_state_input_h, decoder_state_input_c],\n",
    "                      [decoder_outputs2] + [state_h2, state_c2])"
   ]
  },
  {
   "cell_type": "code",
   "execution_count": 23,
   "id": "8136c8d2",
   "metadata": {
    "execution": {
     "iopub.execute_input": "2021-07-28T00:08:49.375461Z",
     "iopub.status.busy": "2021-07-28T00:08:49.374588Z",
     "iopub.status.idle": "2021-07-28T00:08:49.377230Z",
     "shell.execute_reply": "2021-07-28T00:08:49.377614Z"
    },
    "papermill": {
     "duration": 1.882214,
     "end_time": "2021-07-28T00:08:49.377752",
     "exception": false,
     "start_time": "2021-07-28T00:08:47.495538",
     "status": "completed"
    },
    "tags": []
   },
   "outputs": [],
   "source": [
    "def decode_sequence(input_seq):\n",
    "\n",
    "    # Encode the input as state vectors.\n",
    "    (e_out, e_h, e_c) = encoder_model.predict(input_seq)\n",
    "\n",
    "    # Generate empty target sequence of length 1\n",
    "    target_seq = np.zeros((1, 1))\n",
    "\n",
    "    # Populate the first word of target sequence with the start word.\n",
    "    target_seq[0, 0] = target_word_index['start']\n",
    "\n",
    "    stop_condition = False\n",
    "    decoded_sentence = ''\n",
    "\n",
    "    while not stop_condition:\n",
    "        (output_tokens, h, c) = decoder_model.predict([target_seq]\n",
    "                + [e_out, e_h, e_c])\n",
    "\n",
    "        # Sample a token\n",
    "        sampled_token_index = np.argmax(output_tokens[0, -1, :])\n",
    "        sampled_token = reverse_target_word_index[sampled_token_index]\n",
    "\n",
    "        if sampled_token != 'end':\n",
    "            decoded_sentence += ' ' + sampled_token\n",
    "\n",
    "        # Exit condition: either hit max length or find the stop word.\n",
    "        if sampled_token == 'end' or len(decoded_sentence.split()) \\\n",
    "            >= max_summary_len - 1:\n",
    "            stop_condition = True\n",
    "\n",
    "        # Update the target sequence (of length 1)\n",
    "        target_seq = np.zeros((1, 1))\n",
    "        target_seq[0, 0] = sampled_token_index\n",
    "\n",
    "        # Update internal states\n",
    "        (e_h, e_c) = (h, c)\n",
    "\n",
    "    return decoded_sentence"
   ]
  },
  {
   "cell_type": "code",
   "execution_count": 24,
   "id": "41aabff4",
   "metadata": {
    "execution": {
     "iopub.execute_input": "2021-07-28T00:08:53.759588Z",
     "iopub.status.busy": "2021-07-28T00:08:53.758461Z",
     "iopub.status.idle": "2021-07-28T00:08:53.762656Z",
     "shell.execute_reply": "2021-07-28T00:08:53.763350Z"
    },
    "papermill": {
     "duration": 2.469361,
     "end_time": "2021-07-28T00:08:53.763544",
     "exception": false,
     "start_time": "2021-07-28T00:08:51.294183",
     "status": "completed"
    },
    "tags": []
   },
   "outputs": [],
   "source": [
    "# To convert sequence to summary\n",
    "def seq2summary(input_seq):\n",
    "    newString = ''\n",
    "    for i in input_seq:\n",
    "        if i != 0 and i != target_word_index['start'] and i != target_word_index['end']:\n",
    "            newString = newString + reverse_target_word_index[i] + ' '\n",
    "\n",
    "    return newString\n",
    "\n",
    "\n",
    "# To convert sequence to text\n",
    "def seq2text(input_seq):\n",
    "    newString = ''\n",
    "    for i in input_seq:\n",
    "        if i != 0:\n",
    "            newString = newString + reverse_source_word_index[i] + ' '\n",
    "\n",
    "    return newString"
   ]
  },
  {
   "cell_type": "code",
   "execution_count": 25,
   "id": "0074a82c",
   "metadata": {
    "execution": {
     "iopub.execute_input": "2021-07-28T00:08:57.855876Z",
     "iopub.status.busy": "2021-07-28T00:08:57.855032Z",
     "iopub.status.idle": "2021-07-28T00:09:05.926014Z",
     "shell.execute_reply": "2021-07-28T00:09:05.925325Z"
    },
    "papermill": {
     "duration": 10.034595,
     "end_time": "2021-07-28T00:09:05.926185",
     "exception": false,
     "start_time": "2021-07-28T00:08:55.891590",
     "status": "completed"
    },
    "tags": []
   },
   "outputs": [
    {
     "name": "stdout",
     "output_type": "stream",
     "text": [
      "Review: bihar cm nitish kumar saturday attended wedding rjd supremo lalu prasad yadav son tej pratap almost nine months ending grand alliance forming government bjp lalu younger son tejashwi deputy cm kumar former government tej served health minister deputy cm sushil kumar modi also reportedly invited wedding \n",
      "Original summary: nitish lalu son wedding months ending alliance \n",
      "Predicted summary:  lalu son tej pratap yadav daughter tej pratap\n",
      "\n",
      "\n",
      "Review: yoga guru baba ramdev said patanjali ayurved finish multinational firms indian market next five years ramdev said mncs working country development rather sole objective loot india five years patanjali would educate farmers latest techniques also offer decent prices added \n",
      "Original summary: patanjali finish multinationals india yrs ramdev \n",
      "Predicted summary:  patanjali india largest ramdev patanjali md\n",
      "\n",
      "\n",
      "Review: aviation regulator dgca asked airlines direct pilots make announcements important monuments sites like taj mahal statue unity ajanta ellora flying regulator said enhance awareness india cultural heritage made clear announcements made without compromising safety operations added \n",
      "Original summary: pilots told announce flying sites like statue unity \n",
      "Predicted summary:  pilots told lives taj mahal asks airlines\n",
      "\n",
      "\n",
      "Review: dhanbad former deputy mayor year old congress leader neeraj singh shot many times motorcycle borne assailants tuesday police said assailants intercepted singh suv barely metres home opened fire killing three others inside vehicle singh accused several criminal cases including murder \n",
      "Original summary: dhanbad congress leader shot times assailants police \n",
      "Predicted summary:  congress leader shot dead gunman hit body\n",
      "\n",
      "\n",
      "Review: actor shahid kapoor set get wax statue madame tussauds museum actor shared photo measurements session captioned keep eye coming soon earlier deepika padukone announced get wax statue london madame tussauds \n",
      "Original summary: shahid kapoor get wax statue madame tussauds museum \n",
      "Predicted summary:  shahid kapoor get wax statue madame tussauds delhi\n",
      "\n",
      "\n",
      "Review: radisson blu hotel swiss city zurich unveiled metre high glass tower housing approximately bottles wine employed aerial artists called wine angels suspended top harness seemingly fly glass tower retrieve wine dressed leotards wine angels perform acrobatics retrieving wine \n",
      "Original summary: metre glass tower housing bottles wine unveiled \n",
      "Predicted summary:  house built unveiled unveiled\n",
      "\n",
      "\n",
      "Review: supreme court thursday remarked details muzaffarpur shelter home rape case shocking horrible scary remarking accused brajesh thakur influential person court said shifted jail outside bihar issued notice thakur seeking response shifted \n",
      "Original summary: details muzaffarpur shelter rape case shocking scary sc \n",
      "Predicted summary:  rape victim admits shelter shelter homes sc\n",
      "\n",
      "\n",
      "Review: reacting australia heaviest ever odi defeat england tuesday former australian legend shane warne slammed team saying hell happened going boys england registered highest ever odi total men cricket history defeated visitors runs take unassailable lead five match series \n",
      "Original summary: hell happened warne aus giving runs odi \n",
      "Predicted summary:  aus odi captain warne slams journalist\n",
      "\n",
      "\n",
      "Review: iraqi forces friday captured rawa last isis held town country defense ministry said officials added iraqi forces would focus routing militants fled desert exert control iraq borders us led coalition supported operation retake rawa intelligence air strikes advisers coalition spokesman ryan dillon said \n",
      "Original summary: islamic state loses last held town iraq \n",
      "Predicted summary:  islamic state kill last islamic state leader\n",
      "\n",
      "\n",
      "Review: ex australian captain steve waugh left stranded test february brother mark waugh got run mark acting runner injured number batsman craig mcdermott steve tapped ball back towards bowler mark charged wicket got \n",
      "Original summary: steve waugh left stranded twin brother \n",
      "Predicted summary:  steve waugh asked hit ball career\n",
      "\n",
      "\n",
      "Review: india ended grand prix liberation plzen shooting championships seven medals indian shooter heena sidhu claimed bronze medal women metre air pistol event sunday indian contingent returned czech republic haul one gold medal two silver four bronze medals \n",
      "Original summary: sidhu wins bronze ind clinch medals plzen int l meet \n",
      "Predicted summary:  india win gold winning table tennis tt gold\n",
      "\n",
      "\n",
      "Review: kc neogy hn bahuguna finance ministers present union budget neogy second finance minister resigned days bahuguna held office five half months ministers chance present budget held office short durations budgets \n",
      "Original summary: finance ministers presented india budget \n",
      "Predicted summary:  finance ministers ministers budget\n",
      "\n",
      "\n",
      "Review: chhattisgarh governor balram das tandon passed away age suffering cardiac arrest tuesday complained uneasiness earlier day rushed dr br ambedkar memorial hospital raipur tandon previously served deputy cm punjab appointed state governor july \n",
      "Original summary: chhattisgarh governor balram das tandon passes away \n",
      "Predicted summary:  chhattisgarh governor sacks jayalalithaa death\n",
      "\n",
      "\n",
      "Review: least people injured stung honey bees attacked ysr congress leader jagan mohan reddy padayatra andhra pradesh west godavari thursday jagan unhurt security supporters used handkerchiefs party flags protect injured shifted hospital padayatra resumed later \n",
      "Original summary: injured honey bees attack ysr cong leader supporters \n",
      "Predicted summary:  injured injured attack andhra cm ysr cong\n",
      "\n",
      "\n",
      "Review: venezuelan president nicolas maduro wednesday announced february pre sale date cryptocurrency backed country vast oil reserves cryptocurrency named petro great impact country economy maduro said launch cryptocurrency aimed reviving country biggest financial crisis history \n",
      "Original summary: venezuela announces pre sale oil backed cryptocurrency \n",
      "Predicted summary:  venezuela launches cryptocurrency oil backed cryptocurrency\n",
      "\n",
      "\n",
      "Review: gary oldman mentioned year old mother acceptance speech receiving best actor oscar award said say mother thank love support put kettle bringing oscar home first time oldman oscar portraying former british pm winston churchill darkest hour \n",
      "Original summary: mom put kettle bringing oscar home best actor winner \n",
      "Predicted summary:  mother daughter want oscar winner mom yana\n",
      "\n",
      "\n",
      "Review: canadian skier dave duncan wife coach saturday arrested allegedly stealing car pyeongchang winter olympics concluded trio got unlocked hummer left unoccupied front bar drove near olympic village vehicle belonged year old tourist visiting games \n",
      "Original summary: drunk canadian athlete steals car winter olympics \n",
      "Predicted summary:  canadian athlete steals water olympics\n",
      "\n",
      "\n",
      "Review: barcelona argentine forward lionel messi scored side fourth goal yard curling free kick win real sociedad la liga sunday setting set piece yards messi hit ball around wall leaving sociedad goalkeeper stranded middle barcelona initially winning \n",
      "Original summary: messi scores yard curling free kick bar win \n",
      "Predicted summary:  messi scores bar bar bar bar win la liga\n",
      "\n",
      "\n",
      "Review: centre wednesday criticised former uttar pradesh chief minister akhilesh yadav saying martyrs several indian states none prime minister narendra modi home state gujarat union minister state mn pandey termed akhilesh yadav statement saddening also demanded apology \n",
      "Original summary: govt criticises akhilesh yadav statement martyrs \n",
      "Predicted summary:  pm modi left govt yogi adityanath\n",
      "\n",
      "\n"
     ]
    }
   ],
   "source": [
    "for i in range(0, 19):\n",
    "    print ('Review:', seq2text(X_train[i]))\n",
    "    print ('Original summary:', seq2summary(y_train[i]))\n",
    "    print ('Predicted summary:', decode_sequence(X_train[i].reshape(1,\n",
    "           max_text_len)))\n",
    "    print('\\n')"
   ]
  },
  {
   "cell_type": "code",
   "execution_count": null,
   "id": "56026d46",
   "metadata": {
    "papermill": {
     "duration": 1.903268,
     "end_time": "2021-07-28T00:09:09.734649",
     "exception": false,
     "start_time": "2021-07-28T00:09:07.831381",
     "status": "completed"
    },
    "tags": []
   },
   "outputs": [],
   "source": []
  }
 ],
 "metadata": {
  "kernelspec": {
   "display_name": "Python 3",
   "language": "python",
   "name": "python3"
  },
  "language_info": {
   "codemirror_mode": {
    "name": "ipython",
    "version": 3
   },
   "file_extension": ".py",
   "mimetype": "text/x-python",
   "name": "python",
   "nbconvert_exporter": "python",
   "pygments_lexer": "ipython3",
   "version": "3.7.10"
  },
  "papermill": {
   "default_parameters": {},
   "duration": 5819.497734,
   "end_time": "2021-07-28T00:09:14.882123",
   "environment_variables": {},
   "exception": null,
   "input_path": "__notebook__.ipynb",
   "output_path": "__notebook__.ipynb",
   "parameters": {},
   "start_time": "2021-07-27T22:32:15.384389",
   "version": "2.3.3"
  }
 },
 "nbformat": 4,
 "nbformat_minor": 5
}
